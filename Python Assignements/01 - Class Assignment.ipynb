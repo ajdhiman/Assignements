{
 "cells": [
  {
   "cell_type": "markdown",
   "id": "eca1c42e",
   "metadata": {},
   "source": [
    "## 1. Write a function which will take a string and return length of string wihout inbuilt function."
   ]
  },
  {
   "cell_type": "code",
   "execution_count": 2,
   "id": "7bc4d303",
   "metadata": {},
   "outputs": [
    {
     "data": {
      "text/plain": [
       "11"
      ]
     },
     "execution_count": 2,
     "metadata": {},
     "output_type": "execute_result"
    }
   ],
   "source": [
    "def ReturnLength(str):\n",
    "    \"\"\"This function returns the length of given string\"\"\"\n",
    "    length = 0\n",
    "    for i in str:\n",
    "        length += 1\n",
    "    return length\n",
    "\n",
    "#Calling function here\n",
    "ReturnLength(\"Hello World\")\n"
   ]
  },
  {
   "cell_type": "markdown",
   "id": "76b13b08",
   "metadata": {},
   "source": [
    "## 2 . Write a function which will be able to print index of all premitive elements you pass."
   ]
  },
  {
   "cell_type": "code",
   "execution_count": 6,
   "id": "806658b4",
   "metadata": {},
   "outputs": [
    {
     "name": "stdout",
     "output_type": "stream",
     "text": [
      "index of H  is  0\n",
      "index of e  is  1\n",
      "index of l  is  2\n",
      "index of l  is  3\n",
      "index of o  is  4\n",
      "index of    is  5\n",
      "index of W  is  6\n",
      "index of o  is  7\n",
      "index of r  is  8\n",
      "index of l  is  9\n",
      "index of d  is  10\n"
     ]
    }
   ],
   "source": [
    "def PremitiveElements(l):\n",
    "    \"\"\"Function is returning index of premitive elements\"\"\"\n",
    "    if type(l) == list or type(l)==tuple or type(l)==str:\n",
    "        for i in range(len(l)):\n",
    "            print(\"index of\",l[i], \" is \",i)\n",
    "            \n",
    "#Calling function here\n",
    "PremitiveElements(\"Hello World\")"
   ]
  },
  {
   "cell_type": "markdown",
   "id": "aa718298",
   "metadata": {},
   "source": [
    "## 3. Write a function which will take input as a dictionary and give me out as a list of all values."
   ]
  },
  {
   "cell_type": "code",
   "execution_count": 14,
   "id": "b7ddf33a",
   "metadata": {},
   "outputs": [
    {
     "data": {
      "text/plain": [
       "[1, 2, 'value']"
      ]
     },
     "execution_count": 14,
     "metadata": {},
     "output_type": "execute_result"
    }
   ],
   "source": [
    "def DictionaryValues(dict):\n",
    "    \"\"\"This function will return dictionary values as a list\"\"\"\n",
    "    level1Values=list(dict.values())\n",
    "    return level1Values\n",
    "\n",
    "#Calling function here\n",
    "d={\"a\":1,\"b\":2,\"key\":\"value\"}\n",
    "DictionaryValues(d)"
   ]
  },
  {
   "cell_type": "markdown",
   "id": "af40ae4b",
   "metadata": {},
   "source": [
    "## 4. Write a function which will take another functon as an input and return an output"
   ]
  },
  {
   "cell_type": "code",
   "execution_count": 16,
   "id": "a13f7560",
   "metadata": {},
   "outputs": [
    {
     "data": {
      "text/plain": [
       "16"
      ]
     },
     "execution_count": 16,
     "metadata": {},
     "output_type": "execute_result"
    }
   ],
   "source": [
    "def FuctionTakingFunction(a):\n",
    "    \"\"\"This function takes another function(returning int)/int value as an input and return square of value in return\"\"\"\n",
    "    return a**2\n",
    "\n",
    "#Calling function here\n",
    "FuctionTakingFunction(len(\"Ajay\"))"
   ]
  },
  {
   "cell_type": "markdown",
   "id": "dd7d1b6f",
   "metadata": {},
   "source": [
    "## 5. Write a function which will take multiple lists as an input and give me concatenation of all elements as an output."
   ]
  },
  {
   "cell_type": "code",
   "execution_count": 25,
   "id": "4770be8b",
   "metadata": {},
   "outputs": [
    {
     "data": {
      "text/plain": [
       "[1, 2, 'a', 'd']"
      ]
     },
     "execution_count": 25,
     "metadata": {},
     "output_type": "execute_result"
    }
   ],
   "source": [
    "def ConcatLists(*lists):\n",
    "    \"\"\"This function is doing concatenation of more than two lists\"\"\"\n",
    "    value=[]\n",
    "    for l in lists:\n",
    "        if type(l)==list:\n",
    "            value.extend(l)\n",
    "    return value\n",
    "\n",
    "#Calling function here\n",
    "ConcatLists([1,2],[\"a\",\"d\"])"
   ]
  },
  {
   "cell_type": "markdown",
   "id": "5e479740",
   "metadata": {},
   "source": [
    "## 6. Write a function which will be able to a list as input and return index of each element. (even if we have repetative element it should return index)"
   ]
  },
  {
   "cell_type": "code",
   "execution_count": 40,
   "id": "72546529",
   "metadata": {},
   "outputs": [
    {
     "data": {
      "text/plain": [
       "['Index of a  is 0',\n",
       " 'Index of b  is 1',\n",
       " 'Index of c  is 2',\n",
       " 'Index of a  is 3',\n",
       " 'Index of d  is 4']"
      ]
     },
     "execution_count": 40,
     "metadata": {},
     "output_type": "execute_result"
    }
   ],
   "source": [
    "def FindIndex(lst):\n",
    "    \"\"\"This function will return index of each element\"\"\"\n",
    "    l=[]\n",
    "    for i in range(len(lst)):\n",
    "        l.append(f'Index of {lst[i]}  is {i}')\n",
    "    return l\n",
    "\n",
    "#Calling function here\n",
    "FindIndex([\"a\",\"b\",\"c\",\"a\",\"d\"])"
   ]
  },
  {
   "cell_type": "markdown",
   "id": "116042f6",
   "metadata": {},
   "source": [
    "## 7. Write a function which will list all the filename from a directory"
   ]
  },
  {
   "cell_type": "code",
   "execution_count": 50,
   "id": "ad3015b7",
   "metadata": {},
   "outputs": [
    {
     "data": {
      "text/plain": [
       "['.angular-config.json',\n",
       " '.condarc',\n",
       " '01 - Python Code Basics.ipynb',\n",
       " '02 - Python Class Assignment.ipynb',\n",
       " 'for loops while loop.ipynb',\n",
       " 'Function and holiday task.ipynb',\n",
       " 'if else , for loop.ipynb',\n",
       " 'NTUSER.DAT',\n",
       " 'ntuser.dat.LOG1',\n",
       " 'ntuser.dat.LOG2',\n",
       " 'NTUSER.DAT{2125fc7b-cd91-11eb-834b-ace01083fb0e}.TM.blf',\n",
       " 'NTUSER.DAT{2125fc7b-cd91-11eb-834b-ace01083fb0e}.TMContainer00000000000000000001.regtrans-ms',\n",
       " 'NTUSER.DAT{2125fc7b-cd91-11eb-834b-ace01083fb0e}.TMContainer00000000000000000002.regtrans-ms',\n",
       " 'ntuser.ini',\n",
       " 'practice problem python basic.ipynb',\n",
       " 'Python basic (3).ipynb',\n",
       " 'Tuples , set , dict .ipynb',\n",
       " 'Untitled.ipynb']"
      ]
     },
     "execution_count": 50,
     "metadata": {},
     "output_type": "execute_result"
    }
   ],
   "source": [
    "from os import listdir\n",
    "from os.path import isfile, join\n",
    "def AllFiles(path):\n",
    "    \"\"\"This function returns list of all files\"\"\"\n",
    "    onlyfiles = [f for f in listdir(path) if isfile(join(path, f))]\n",
    "    return onlyfiles\n",
    "\n",
    "#Calling function here\n",
    "AllFiles(\"C:\\\\Users\\\\eraja\")"
   ]
  },
  {
   "cell_type": "markdown",
   "id": "85fe73ee",
   "metadata": {},
   "source": [
    "## 8. Write a function to show system configuration"
   ]
  },
  {
   "cell_type": "code",
   "execution_count": 52,
   "id": "c5175902",
   "metadata": {},
   "outputs": [
    {
     "name": "stdout",
     "output_type": "stream",
     "text": [
      "System: Windows\n",
      "Node Name: Akso\n",
      "Release: 10\n",
      "Version: 10.0.19043\n",
      "Machine: AMD64\n",
      "Processor: Intel64 Family 6 Model 61 Stepping 4, GenuineIntel\n"
     ]
    }
   ],
   "source": [
    "import platform\n",
    "\n",
    "def ShowSystemConfig():\n",
    "    \"\"\"Function will show system configuration\"\"\"\n",
    "    my_system = platform.uname()\n",
    "    print(f\"System: {my_system.system}\")\n",
    "    print(f\"Node Name: {my_system.node}\")\n",
    "    print(f\"Release: {my_system.release}\")\n",
    "    print(f\"Version: {my_system.version}\")\n",
    "    print(f\"Machine: {my_system.machine}\")\n",
    "    print(f\"Processor: {my_system.processor}\")\n",
    "\n",
    "#Calling function here\n",
    "ShowSystemConfig()"
   ]
  },
  {
   "cell_type": "markdown",
   "id": "6ec11522",
   "metadata": {},
   "source": [
    "## 9. Write a function which will be able to show date and time. "
   ]
  },
  {
   "cell_type": "code",
   "execution_count": 60,
   "id": "21f6ce6e",
   "metadata": {},
   "outputs": [
    {
     "name": "stdout",
     "output_type": "stream",
     "text": [
      "2022-01-22 15:09:56.717542\n"
     ]
    }
   ],
   "source": [
    "import datetime\n",
    "\n",
    "def ShowDateTime():\n",
    "    \"\"\"Function will print datetime\"\"\"\n",
    "    print(datetime.datetime.now())\n",
    "\n",
    "#Calling function here\n",
    "ShowDateTime()"
   ]
  },
  {
   "cell_type": "markdown",
   "id": "a62cafb4",
   "metadata": {},
   "source": [
    "## 10. Write a function which will be able to read an image file and display on notebook."
   ]
  },
  {
   "cell_type": "code",
   "execution_count": 22,
   "id": "58bb8345",
   "metadata": {},
   "outputs": [
    {
     "data": {
      "image/jpeg": "[encoded data removed]",
      "text/plain": [
       "<IPython.core.display.Image object>"
      ]
     },
     "execution_count": 22,
     "metadata": {},
     "output_type": "execute_result"
    }
   ],
   "source": [
    "from IPython.display import Image\n",
    "\n",
    "def ShowImage(filePath):\n",
    "    \"\"\"Function opens image in notebook by providing the path\"\"\"\n",
    "    return Image(filename=filePath) \n",
    "    \n",
    "#Calling function here\n",
    "ShowImage(\"HappyKitten.jpg\")\n",
    "\n",
    "\n",
    "#PIL library can also be used for the same"
   ]
  },
  {
   "cell_type": "markdown",
   "id": "c4ea681a",
   "metadata": {},
   "source": [
    "## 11. Write a function which can read video file and play for you.  "
   ]
  },
  {
   "cell_type": "code",
   "execution_count": null,
   "id": "8d6d3431",
   "metadata": {},
   "outputs": [],
   "source": []
  },
  {
   "cell_type": "markdown",
   "id": "8467bdd3",
   "metadata": {},
   "source": [
    "## 12. Write a function which can move a file from one directory to another directory. "
   ]
  },
  {
   "cell_type": "code",
   "execution_count": 23,
   "id": "4ad60fe5",
   "metadata": {},
   "outputs": [
    {
     "name": "stdout",
     "output_type": "stream",
     "text": [
      "File has been moved.\n"
     ]
    }
   ],
   "source": [
    "import os\n",
    "import shutil\n",
    "\n",
    "def MoveFile(srcPath, destPath):\n",
    "    \"\"\"This function will move file from one location to another.\"\"\"\n",
    "    shutil.move(srcPath, destPath)\n",
    "    print(\"File has been moved.\")\n",
    "\n",
    "#Calling function here\n",
    "MoveFile(\"Test File.txt\",\"Documents/TestFile.txt\")"
   ]
  },
  {
   "cell_type": "markdown",
   "id": "364524b1",
   "metadata": {},
   "source": [
    "## 13. Write a function which will be able to shutdown your system."
   ]
  },
  {
   "cell_type": "code",
   "execution_count": null,
   "id": "4e6e9f96",
   "metadata": {},
   "outputs": [],
   "source": []
  },
  {
   "cell_type": "markdown",
   "id": "e1e55080",
   "metadata": {},
   "source": [
    "## 14. Write a function which will be able to access your mail. "
   ]
  },
  {
   "cell_type": "code",
   "execution_count": null,
   "id": "b2d222e4",
   "metadata": {},
   "outputs": [],
   "source": []
  },
  {
   "cell_type": "markdown",
   "id": "411d8a1e",
   "metadata": {},
   "source": [
    "## 16. Write a function to read a complete PDF file."
   ]
  },
  {
   "cell_type": "code",
   "execution_count": 33,
   "id": "d4ead6e1",
   "metadata": {},
   "outputs": [
    {
     "name": "stdout",
     "output_type": "stream",
     "text": [
      "4\n",
      " \n",
      " \n",
      " \n",
      " \n",
      " \n",
      " \n",
      " \n",
      "RAHUL SAINI\n",
      " \n",
      " \n",
      " \n",
      "Contact\n",
      " \n",
      "Address\n",
      " \n",
      "House No. 1524, \n",
      "2\n",
      "nd\n",
      " \n",
      "floo\n",
      "r,\n",
      " \n",
      "Pan\n",
      "chkula,\n",
      " \n",
      "Haryan\n",
      "a\n",
      " \n",
      "(\n",
      "134116\n",
      ")\n",
      " \n",
      " \n",
      "C/o M.\n",
      " \n",
      "Mobile :\n",
      " \n",
      "+91\n",
      "-\n",
      "9813030839\n",
      " \n",
      " \n",
      "Email Id\n",
      ":\n",
      " \n",
      "Rahul.gojra@gmail.com\n",
      " \n",
      " \n",
      " \n",
      "PERSONAL DETAILS\n",
      " \n",
      "Father Name :\n",
      " \n",
      "Sh. Roshan Lal\n",
      " \n",
      " \n",
      "DOB\n",
      " \n",
      ": \n",
      " \n",
      "          \n",
      " \n",
      "07\n",
      ".\n",
      "08\n",
      ".\n",
      "19\n",
      "92\n",
      " \n",
      " \n",
      "Sex\n",
      " \n",
      ": \n",
      "            \n",
      " \n",
      "M\n",
      "ale\n",
      " \n",
      " \n",
      "Nationality\n",
      " \n",
      ":\n",
      " \n",
      " \n",
      "Indian\n",
      " \n",
      " \n",
      "Languages Known\n",
      " \n",
      ":\n",
      " \n",
      "Hindi\n",
      ", Englis\n",
      "h\n",
      ", Punjabi\n",
      " \n",
      " \n",
      "Marital\n",
      " \n",
      "Status\n",
      " \n",
      ":\n",
      " \n",
      " \n",
      "Married\n",
      " \n",
      " \n",
      " \n",
      " \n",
      " \n",
      " \n",
      " \n",
      " \n",
      "Profile\n",
      " \n",
      "Meticulous and Goal oriented Front\n",
      "end Developer. Having a\n",
      "round\n",
      " \n",
      "m\n",
      "ore than \n",
      "4+\n",
      " \n",
      "Y\n",
      "ears\n",
      " \n",
      "of experience in developing professional mobile and web \n",
      "applications which includes front\n",
      "end designing and hand coding with solid \n",
      "proficiency in usability, web and client/server applications using \n",
      "HTML5, CSS3, \n",
      "JavaScript, Jquery, \n",
      "React.js\n",
      ", Redux\n",
      ", \n",
      "A\n",
      "ngular, \n",
      "Ajax, \n",
      "TypeScript\n",
      ", Bootstrap\n",
      " \n",
      "and \n",
      "XML\n",
      ".\n",
      " \n",
      " \n",
      "PROFESSIONAL \n",
      "EXPERIENCE\n",
      " \n",
      "\n",
      " \n",
      "1 \n",
      "y\n",
      "ear and 9 month\n",
      "s\n",
      " \n",
      "experience in \n",
      "Instep Technologies\n",
      " \n",
      "as Sr. UI\n",
      "-\n",
      "Developer\n",
      " \n",
      "(\n",
      "05/2020\n",
      " \n",
      "-\n",
      " \n",
      "P\n",
      "resent\n",
      ")\n",
      " \n",
      " \n",
      "\n",
      " \n",
      "6 months of experience in \n",
      "Balance\n",
      "Hero\n",
      " \n",
      "as\n",
      " \n",
      "U\n",
      "I\n",
      "-\n",
      "Developer\n",
      ".\n",
      " \n",
      "(\n",
      "11/2019\n",
      " \n",
      "-\n",
      "05/2020\n",
      ")\n",
      ".\n",
      " \n",
      " \n",
      "\n",
      " \n",
      "8 mo\n",
      "nth\n",
      "s \n",
      "of experience in \n",
      "Phonepe\n",
      " \n",
      "as UI\n",
      "-\n",
      "Developer\n",
      ". \n",
      "(\n",
      "02/\n",
      "2019\n",
      " \n",
      "-\n",
      "10/2019\n",
      ")\n",
      " \n",
      " \n",
      "\n",
      " \n",
      "2\n",
      " \n",
      "year\n",
      "s\n",
      " \n",
      "5 month\n",
      "s\n",
      " \n",
      "experience\n",
      " \n",
      "in \n",
      "Paytm (One97\n",
      " \n",
      "Communication)\n",
      " \n",
      "as UI\n",
      "-\n",
      "Developer \n",
      "(\n",
      "11\n",
      "/2016 \n",
      "\n",
      " \n",
      "02/\n",
      "2019\n",
      ")\n",
      ".\n",
      " \n",
      " \n",
      "TECHNICAL S\n",
      "KILLS\n",
      " \n",
      "   \n",
      "    \n",
      " \n",
      "Web Technologies\n",
      " \n",
      "Angular 4,5,6,7,8,9,10,11,12 , React Js\n",
      " \n",
      "Scripting Languages\n",
      " \n",
      "JavaScript, JQuery, HTML 5, CSS\n",
      " \n",
      "Operati\n",
      "ng System\n",
      " \n",
      "Windo\n",
      "w\n",
      "s, Mac, Ubuntu\n",
      " \n",
      "Tools\n",
      " \n",
      "Visual Studio\n",
      " \n",
      "code\n",
      ",\n",
      " \n",
      "Visual \n",
      "S\n",
      "tu\n",
      "dio 2\n",
      "019,\n",
      " \n",
      "MS \n",
      "Office\n",
      ",\n",
      " \n",
      "Po\n",
      "stman,\n",
      " \n",
      "Filezila \n",
      " \n",
      " \n",
      "ACADEMIC PROFILE\n",
      " \n",
      "\n",
      " \n",
      "B. Tech\n",
      " \n",
      "(\n",
      "Mechanical\n",
      ")\n",
      " \n",
      "from\n",
      " \n",
      "Kuru\n",
      "kshetra University\n",
      ". (\n",
      "59\n",
      " \n",
      "%age)\n",
      " \n",
      "\n",
      " \n",
      "Senior Secondary \n",
      "E\n",
      "ducation from Boa\n",
      "rd of School Education,\n",
      " \n",
      "Haryana\n",
      ".\n",
      " \n",
      "\n",
      " \n",
      "Matriculation from Board of School Education, Haryana\n",
      ".\n",
      " \n",
      " \n",
      "P\n",
      "ROJECT\n",
      "S\n",
      " \n",
      "HANDELD\n",
      " \n",
      " \n",
      "1.\n",
      " \n",
      "Application Engineer \n",
      "\n",
      " \n",
      "Talk Two :\n",
      "https://www.talktwo.com/\n",
      " \n",
      ": \n",
      " \n",
      "Talk Two is service based web app, ther\n",
      "e\n",
      " \n",
      "are three roles first on is \n",
      "Super admin who can control whole app and can manage everything. \n",
      "second one is doctor & specialist, and third one is user\n",
      " \n",
      "who can search \n",
      "according to need and can contact directly, here is used Twilio API for \n",
      "communication. Fo\n",
      "r\n",
      " \n",
      "payment method we used Stripe. \n",
      " \n",
      "Key \n",
      "Responsibilities:\n",
      " \n",
      " \n",
      "\n",
      "R\n",
      "ESUME\n",
      "     \n",
      "   \n",
      "                \n",
      " \n",
      " \n",
      "\n"
     ]
    }
   ],
   "source": [
    "# importing required modules\n",
    "import PyPDF2\n",
    "\n",
    "def OpenPDF(pdfPath):\n",
    "    \"\"\"Function will open PDF file in notebook\"\"\"\n",
    "    # creating a pdf file object\n",
    "    pdfFileObj = open('Rahul Saini Developer.pdf', 'rb')\n",
    "\n",
    "    # creating a pdf reader object\n",
    "    pdfReader = PyPDF2.PdfFileReader(pdfFileObj)\n",
    "\n",
    "    # printing number of pages in pdf file\n",
    "    print(pdfReader.numPages)\n",
    "\n",
    "    # creating a page object\n",
    "    pageObj = pdfReader.getPage(0)\n",
    "\n",
    "    # extracting text from page\n",
    "    print(pageObj.extractText())\n",
    "\n",
    "    # closing the pdf file object\n",
    "    pdfFileObj.close()\n",
    "\n",
    "#Calling function here\n",
    "OpenPDF(\"Rahul Saini Developer.pdf\")"
   ]
  },
  {
   "cell_type": "markdown",
   "id": "bcd5aa3c",
   "metadata": {},
   "source": [
    "## 17. Write a function to read a word file."
   ]
  },
  {
   "cell_type": "code",
   "execution_count": 52,
   "id": "97c32bd7",
   "metadata": {},
   "outputs": [
    {
     "name": "stdout",
     "output_type": "stream",
     "text": [
      "Test File\n",
      "\n",
      "\n",
      "\n",
      "Test File\n",
      "\n",
      "Test File\n",
      "\n",
      "Test File\n",
      "\n",
      "Test File\n",
      "\n",
      "Test File\n",
      "\n",
      "Test File\n",
      "\n",
      "Test File\n",
      "\n",
      "Test File\n",
      "\n",
      "Test File\n"
     ]
    }
   ],
   "source": [
    "#pip install docx2txt\n",
    "\n",
    "import docx2txt\n",
    "def ReadWordFile(path):\n",
    "    \"\"\"This function will read all content of word file.\"\"\"\n",
    "    result = docx2txt.process(path)\n",
    "    print(result)\n",
    "\n",
    "#Calling function here\n",
    "ReadWordFile(\"Test.docx\")"
   ]
  },
  {
   "cell_type": "code",
   "execution_count": null,
   "id": "a65f1638",
   "metadata": {},
   "outputs": [],
   "source": []
  },
  {
   "cell_type": "code",
   "execution_count": null,
   "id": "9253de91",
   "metadata": {},
   "outputs": [],
   "source": []
  },
  {
   "cell_type": "code",
   "execution_count": 43,
   "id": "45c20ed7",
   "metadata": {},
   "outputs": [],
   "source": []
  },
  {
   "cell_type": "code",
   "execution_count": null,
   "id": "bbb5f4d6",
   "metadata": {},
   "outputs": [],
   "source": []
  },
  {
   "cell_type": "code",
   "execution_count": null,
   "id": "e3885c05",
   "metadata": {},
   "outputs": [],
   "source": []
  }
 ],
 "metadata": {
  "kernelspec": {
   "display_name": "Python 3 (ipykernel)",
   "language": "python",
   "name": "python3"
  },
  "language_info": {
   "codemirror_mode": {
    "name": "ipython",
    "version": 3
   },
   "file_extension": ".py",
   "mimetype": "text/x-python",
   "name": "python",
   "nbconvert_exporter": "python",
   "pygments_lexer": "ipython3",
   "version": "3.9.7"
  }
 },
 "nbformat": 4,
 "nbformat_minor": 5
}
